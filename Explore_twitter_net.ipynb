{
 "cells": [
  {
   "cell_type": "markdown",
   "metadata": {},
   "source": [
    "# Exploring Twitter with python and igraph\n",
    "\n",
    "This notebook aims to explain how to :\n",
    "- Access Twitter API\n",
    "- Use Twitter API from python\n",
    "- Explore A1's follower network\n",
    "\n",
    "*TODO* : Sentiment analysis of tweets regarding A1\n",
    "\n",
    "## Gain access to Twitter's API\n",
    "\n",
    "First things first, you need a twitter account and then go on the [developper page](https://developer.twitter.com) to create a developper account. After applying, you may get another questions from Twitter by email ; they want to make sure you are you going to be the next *cambridge analytica*... Once the dev account is approved, you can finally create an **App** which will allow you to access the data. There is a [tutorial](https://bullseyestock.wordpress.com/2018/02/09/creating-a-twitter-application/) on how to do that.\n",
    "\n",
    "Once this **App** is created you can go with diverse python packages\n",
    "\n",
    "https://www.sitepoint.com/how-to-create-a-twitter-app-and-api-interface-via-python/\n",
    "\n",
    "## Let's play around with `tweepy` !"
   ]
  },
  {
   "cell_type": "code",
   "execution_count": 1,
   "metadata": {},
   "outputs": [],
   "source": [
    "import time\n",
    "import numpy as np\n",
    "import pandas as pd\n",
    "import matplotlib.pyplot as plt\n",
    "import tweepy\n",
    "pd.set_option(\"display.max_colwidth\", 10000)"
   ]
  },
  {
   "cell_type": "markdown",
   "metadata": {},
   "source": [
    "In order to avoid writing my own credentials out clear in this notebook, I have stored them in a CSV file. I can import the info and then connect to the API. the options passed in the all of the API function is meant to pause automatically ; twitter basic API account allows to retrieve  limited amount of data per hour"
   ]
  },
  {
   "cell_type": "code",
   "execution_count": 2,
   "metadata": {},
   "outputs": [],
   "source": [
    "cred = pd.read_csv(\"Credentials.csv\")\n",
    "consumer_key = cred.API_key.to_string(index=False)\n",
    "consumer_secret = cred.API_secret_key.to_string(index=False)\n",
    "access_token = cred.Access_token.to_string(index=False)\n",
    "access_token_secret = cred.Access_token_secret.to_string(index=False)\n",
    " \n",
    "# OAuth process, using the keys and tokens\n",
    "auth = tweepy.OAuthHandler(consumer_key, consumer_secret)\n",
    "auth.set_access_token(access_token, access_token_secret)\n",
    "# Creation of the actual interface, using authentication\n",
    "api = tweepy.API(auth,wait_on_rate_limit=True,wait_on_rate_limit_notify=True)"
   ]
  },
  {
   "cell_type": "markdown",
   "metadata": {},
   "source": [
    "Check if this works ; yes, that's me !"
   ]
  },
  {
   "cell_type": "code",
   "execution_count": 3,
   "metadata": {},
   "outputs": [
    {
     "data": {
      "text/plain": [
       "User(_api=<tweepy.api.API object at 0x7f59a30ee940>, _json={'id': 943239951570829312, 'id_str': '943239951570829312', 'name': 'Vivien', 'screen_name': 'VivienRoussez', 'location': '', 'profile_location': None, 'description': '', 'url': None, 'entities': {'description': {'urls': []}}, 'protected': False, 'followers_count': 2, 'friends_count': 21, 'listed_count': 0, 'created_at': 'Tue Dec 19 22:01:43 +0000 2017', 'favourites_count': 0, 'utc_offset': None, 'time_zone': None, 'geo_enabled': False, 'verified': False, 'statuses_count': 0, 'lang': 'fr', 'contributors_enabled': False, 'is_translator': False, 'is_translation_enabled': False, 'profile_background_color': 'F5F8FA', 'profile_background_image_url': None, 'profile_background_image_url_https': None, 'profile_background_tile': False, 'profile_image_url': 'http://abs.twimg.com/sticky/default_profile_images/default_profile_normal.png', 'profile_image_url_https': 'https://abs.twimg.com/sticky/default_profile_images/default_profile_normal.png', 'profile_link_color': '1DA1F2', 'profile_sidebar_border_color': 'C0DEED', 'profile_sidebar_fill_color': 'DDEEF6', 'profile_text_color': '333333', 'profile_use_background_image': True, 'has_extended_profile': False, 'default_profile': True, 'default_profile_image': True, 'following': False, 'follow_request_sent': False, 'notifications': False, 'translator_type': 'none', 'suspended': False, 'needs_phone_verification': False}, id=943239951570829312, id_str='943239951570829312', name='Vivien', screen_name='VivienRoussez', location='', profile_location=None, description='', url=None, entities={'description': {'urls': []}}, protected=False, followers_count=2, friends_count=21, listed_count=0, created_at=datetime.datetime(2017, 12, 19, 22, 1, 43), favourites_count=0, utc_offset=None, time_zone=None, geo_enabled=False, verified=False, statuses_count=0, lang='fr', contributors_enabled=False, is_translator=False, is_translation_enabled=False, profile_background_color='F5F8FA', profile_background_image_url=None, profile_background_image_url_https=None, profile_background_tile=False, profile_image_url='http://abs.twimg.com/sticky/default_profile_images/default_profile_normal.png', profile_image_url_https='https://abs.twimg.com/sticky/default_profile_images/default_profile_normal.png', profile_link_color='1DA1F2', profile_sidebar_border_color='C0DEED', profile_sidebar_fill_color='DDEEF6', profile_text_color='333333', profile_use_background_image=True, has_extended_profile=False, default_profile=True, default_profile_image=True, following=False, follow_request_sent=False, notifications=False, translator_type='none', suspended=False, needs_phone_verification=False)"
      ]
     },
     "execution_count": 3,
     "metadata": {},
     "output_type": "execute_result"
    }
   ],
   "source": [
    "api.me()"
   ]
  },
  {
   "cell_type": "markdown",
   "metadata": {},
   "source": [
    "## Get the followers of A1 \n",
    "\n",
    "Now, I'd like to get a list of every A1 (Austria) followers. The problem is that the api gives only 5000 results at a time, so we have to go through every page and stack the results into one list. "
   ]
  },
  {
   "cell_type": "code",
   "execution_count": 4,
   "metadata": {},
   "outputs": [
    {
     "data": {
      "text/plain": [
       "5000"
      ]
     },
     "execution_count": 4,
     "metadata": {},
     "output_type": "execute_result"
    }
   ],
   "source": [
    "foll = api.followers_ids(\"A1Telekom\")\n",
    "len(foll)"
   ]
  },
  {
   "cell_type": "code",
   "execution_count": 6,
   "metadata": {},
   "outputs": [],
   "source": [
    "ids=[]\n",
    "for page in tweepy.Cursor(api.followers_ids,screen_name=\"A1Telekom\").pages():\n",
    "    ids.extend(page)\n",
    "    ## if len(page) == 5000: \n",
    "    ##     time.sleep(60) ## The if is meant not to wait for the last page"
   ]
  },
  {
   "cell_type": "markdown",
   "metadata": {},
   "source": [
    "Let's get the number of friends for each follower. Some errors emerge (user not found) ; we try "
   ]
  },
  {
   "cell_type": "code",
   "execution_count": 159,
   "metadata": {},
   "outputs": [
    {
     "name": "stderr",
     "output_type": "stream",
     "text": [
      "Rate limit reached. Sleeping for: 481\n",
      "Rate limit reached. Sleeping for: 497\n",
      "Rate limit reached. Sleeping for: 461\n",
      "Rate limit reached. Sleeping for: 439\n",
      "Rate limit reached. Sleeping for: 419\n",
      "Rate limit reached. Sleeping for: 387\n",
      "Rate limit reached. Sleeping for: 430\n",
      "Rate limit reached. Sleeping for: 448\n",
      "Rate limit reached. Sleeping for: 438\n",
      "Rate limit reached. Sleeping for: 434\n",
      "Rate limit reached. Sleeping for: 438\n",
      "Rate limit reached. Sleeping for: 463\n",
      "Rate limit reached. Sleeping for: 478\n",
      "Rate limit reached. Sleeping for: 456\n",
      "Rate limit reached. Sleeping for: 372\n",
      "Rate limit reached. Sleeping for: 408\n",
      "Rate limit reached. Sleeping for: 434\n",
      "Rate limit reached. Sleeping for: 436\n"
     ]
    },
    {
     "data": {
      "text/plain": [
       "17839.107326984406"
      ]
     },
     "execution_count": 159,
     "metadata": {},
     "output_type": "execute_result"
    }
   ],
   "source": [
    "deg = []\n",
    "start = time.time()\n",
    "for user in ids:\n",
    "    try:\n",
    "        deg.append(api.get_user(user).friends_count)\n",
    "    except tweepy.error.TweepError:\n",
    "        deg.append(None)\n",
    "time.time()-start"
   ]
  },
  {
   "cell_type": "code",
   "execution_count": 7,
   "metadata": {},
   "outputs": [
    {
     "data": {
      "text/plain": [
       "17549"
      ]
     },
     "execution_count": 7,
     "metadata": {},
     "output_type": "execute_result"
    }
   ],
   "source": [
    "len(ids), len(deg)"
   ]
  },
  {
   "cell_type": "code",
   "execution_count": 177,
   "metadata": {
    "scrolled": true
   },
   "outputs": [
    {
     "data": {
      "text/plain": [
       "<matplotlib.axes._subplots.AxesSubplot at 0x7f1aa59e55c0>"
      ]
     },
     "execution_count": 177,
     "metadata": {},
     "output_type": "execute_result"
    },
    {
     "data": {
      "image/png": "[encoded data removed]",
      "text/plain": [
       "<Figure size 432x288 with 1 Axes>"
      ]
     },
     "metadata": {
      "needs_background": "light"
     },
     "output_type": "display_data"
    }
   ],
   "source": [
    "followers = pd.DataFrame()\n",
    "followers[\"users\"]=ids\n",
    "followers[\"degree\"]=deg\n",
    "followers.to_csv(path_or_buf=\"users.csv\")\n",
    "followers.head()\n",
    "np.log(followers[followers.degree>0].degree).hist()"
   ]
  },
  {
   "cell_type": "markdown",
   "metadata": {},
   "source": [
    "In case we start from here to avoid to collect all followers (takes approx 5 hours)"
   ]
  },
  {
   "cell_type": "code",
   "execution_count": 12,
   "metadata": {},
   "outputs": [
    {
     "data": {
      "text/plain": [
       "list"
      ]
     },
     "execution_count": 12,
     "metadata": {},
     "output_type": "execute_result"
    }
   ],
   "source": [
    "followers = pd.read_csv(\"users.csv\")\n",
    "deg = followers.degree.tolist()"
   ]
  },
  {
   "cell_type": "code",
   "execution_count": 13,
   "metadata": {},
   "outputs": [
    {
     "data": {
      "text/plain": [
       "count    1.753600e+04\n",
       "mean     6.193923e+02\n",
       "std      1.256283e+04\n",
       "min      0.000000e+00\n",
       "25%      5.400000e+01\n",
       "50%      1.450000e+02\n",
       "75%      4.080000e+02\n",
       "max      1.507258e+06\n",
       "Name: degree, dtype: float64"
      ]
     },
     "execution_count": 13,
     "metadata": {},
     "output_type": "execute_result"
    }
   ],
   "source": [
    "followers.degree.describe()"
   ]
  },
  {
   "cell_type": "code",
   "execution_count": 16,
   "metadata": {},
   "outputs": [
    {
     "data": {
      "text/plain": [
       "0.00       0.0\n",
       "0.02       5.0\n",
       "0.04       8.0\n",
       "0.06      12.0\n",
       "0.08      16.0\n",
       "0.10      20.0\n",
       "0.12      25.0\n",
       "0.14      29.0\n",
       "0.16      33.0\n",
       "0.18      38.0\n",
       "0.20      42.0\n",
       "0.22      47.0\n",
       "0.24      52.0\n",
       "0.26      57.0\n",
       "0.28      62.0\n",
       "0.30      67.5\n",
       "0.32      74.0\n",
       "0.34      80.0\n",
       "0.36      86.0\n",
       "0.38      93.0\n",
       "0.40     101.0\n",
       "0.42     108.0\n",
       "0.44     116.0\n",
       "0.46     125.0\n",
       "0.48     135.0\n",
       "0.50     145.0\n",
       "0.52     157.0\n",
       "0.54     169.0\n",
       "0.56     181.0\n",
       "0.58     195.0\n",
       "0.60     210.0\n",
       "0.62     227.0\n",
       "0.64     245.0\n",
       "0.66     267.0\n",
       "0.68     289.0\n",
       "0.70     319.0\n",
       "0.72     352.0\n",
       "0.74     388.0\n",
       "0.76     429.0\n",
       "0.78     478.0\n",
       "0.80     532.0\n",
       "0.82     600.7\n",
       "0.84     689.0\n",
       "0.86     789.0\n",
       "0.88     920.6\n",
       "0.90    1095.0\n",
       "0.92    1354.4\n",
       "0.94    1693.0\n",
       "0.96    2029.6\n",
       "0.98    3200.1\n",
       "Name: degree, dtype: float64"
      ]
     },
     "execution_count": 16,
     "metadata": {},
     "output_type": "execute_result"
    }
   ],
   "source": [
    "followers.degree.quantile(np.arange(50)/50)"
   ]
  },
  {
   "cell_type": "markdown",
   "metadata": {},
   "source": [
    "The aim now is to get how else these tweetos follow, so we'll use the `friends_id` method "
   ]
  },
  {
   "cell_type": "code",
   "execution_count": 18,
   "metadata": {},
   "outputs": [
    {
     "name": "stdout",
     "output_type": "stream",
     "text": [
      "0\n"
     ]
    },
    {
     "name": "stderr",
     "output_type": "stream",
     "text": [
      "Rate limit reached. Sleeping for: 890\n"
     ]
    },
    {
     "ename": "KeyboardInterrupt",
     "evalue": "",
     "output_type": "error",
     "traceback": [
      "\u001b[0;31m---------------------------------------------------------------------------\u001b[0m",
      "\u001b[0;31mKeyboardInterrupt\u001b[0m                         Traceback (most recent call last)",
      "\u001b[0;32m<ipython-input-18-37e74f68fa73>\u001b[0m in \u001b[0;36m<module>\u001b[0;34m\u001b[0m\n\u001b[1;32m      4\u001b[0m     \u001b[0;32mtry\u001b[0m\u001b[0;34m:\u001b[0m\u001b[0;34m\u001b[0m\u001b[0;34m\u001b[0m\u001b[0m\n\u001b[1;32m      5\u001b[0m         \u001b[0;32mif\u001b[0m \u001b[0mdeg\u001b[0m\u001b[0;34m[\u001b[0m\u001b[0mii\u001b[0m\u001b[0;34m]\u001b[0m\u001b[0;34m<\u001b[0m\u001b[0;36m3000\u001b[0m\u001b[0;34m:\u001b[0m\u001b[0;34m\u001b[0m\u001b[0;34m\u001b[0m\u001b[0m\n\u001b[0;32m----> 6\u001b[0;31m             \u001b[0mall_friends\u001b[0m\u001b[0;34m.\u001b[0m\u001b[0mappend\u001b[0m\u001b[0;34m(\u001b[0m\u001b[0mapi\u001b[0m\u001b[0;34m.\u001b[0m\u001b[0mfriends\u001b[0m\u001b[0;34m(\u001b[0m\u001b[0mids\u001b[0m\u001b[0;34m[\u001b[0m\u001b[0mii\u001b[0m\u001b[0;34m]\u001b[0m\u001b[0;34m)\u001b[0m\u001b[0;34m)\u001b[0m\u001b[0;34m\u001b[0m\u001b[0;34m\u001b[0m\u001b[0m\n\u001b[0m\u001b[1;32m      7\u001b[0m         \u001b[0;32melse\u001b[0m\u001b[0;34m:\u001b[0m\u001b[0;34m\u001b[0m\u001b[0;34m\u001b[0m\u001b[0m\n\u001b[1;32m      8\u001b[0m             \u001b[0mall_friends\u001b[0m\u001b[0;34m.\u001b[0m\u001b[0mappend\u001b[0m\u001b[0;34m(\u001b[0m\u001b[0;34m[\u001b[0m\u001b[0;32mNone\u001b[0m\u001b[0;34m]\u001b[0m\u001b[0;34m)\u001b[0m\u001b[0;34m\u001b[0m\u001b[0;34m\u001b[0m\u001b[0m\n",
      "\u001b[0;32m~/.local/lib/python3.6/site-packages/tweepy/binder.py\u001b[0m in \u001b[0;36m_call\u001b[0;34m(*args, **kwargs)\u001b[0m\n\u001b[1;32m    248\u001b[0m             \u001b[0;32mreturn\u001b[0m \u001b[0mmethod\u001b[0m\u001b[0;34m\u001b[0m\u001b[0;34m\u001b[0m\u001b[0m\n\u001b[1;32m    249\u001b[0m         \u001b[0;32melse\u001b[0m\u001b[0;34m:\u001b[0m\u001b[0;34m\u001b[0m\u001b[0;34m\u001b[0m\u001b[0m\n\u001b[0;32m--> 250\u001b[0;31m             \u001b[0;32mreturn\u001b[0m \u001b[0mmethod\u001b[0m\u001b[0;34m.\u001b[0m\u001b[0mexecute\u001b[0m\u001b[0;34m(\u001b[0m\u001b[0;34m)\u001b[0m\u001b[0;34m\u001b[0m\u001b[0;34m\u001b[0m\u001b[0m\n\u001b[0m\u001b[1;32m    251\u001b[0m \u001b[0;34m\u001b[0m\u001b[0m\n\u001b[1;32m    252\u001b[0m     \u001b[0;31m# Set pagination mode\u001b[0m\u001b[0;34m\u001b[0m\u001b[0;34m\u001b[0m\u001b[0;34m\u001b[0m\u001b[0m\n",
      "\u001b[0;32m~/.local/lib/python3.6/site-packages/tweepy/binder.py\u001b[0m in \u001b[0;36mexecute\u001b[0;34m(self)\u001b[0m\n\u001b[1;32m    162\u001b[0m                                     \u001b[0;32mif\u001b[0m \u001b[0mself\u001b[0m\u001b[0;34m.\u001b[0m\u001b[0mwait_on_rate_limit_notify\u001b[0m\u001b[0;34m:\u001b[0m\u001b[0;34m\u001b[0m\u001b[0;34m\u001b[0m\u001b[0m\n\u001b[1;32m    163\u001b[0m                                         \u001b[0mlog\u001b[0m\u001b[0;34m.\u001b[0m\u001b[0mwarning\u001b[0m\u001b[0;34m(\u001b[0m\u001b[0;34m\"Rate limit reached. Sleeping for: %d\"\u001b[0m \u001b[0;34m%\u001b[0m \u001b[0msleep_time\u001b[0m\u001b[0;34m)\u001b[0m\u001b[0;34m\u001b[0m\u001b[0;34m\u001b[0m\u001b[0m\n\u001b[0;32m--> 164\u001b[0;31m                                     \u001b[0mtime\u001b[0m\u001b[0;34m.\u001b[0m\u001b[0msleep\u001b[0m\u001b[0;34m(\u001b[0m\u001b[0msleep_time\u001b[0m \u001b[0;34m+\u001b[0m \u001b[0;36m5\u001b[0m\u001b[0;34m)\u001b[0m  \u001b[0;31m# sleep for few extra sec\u001b[0m\u001b[0;34m\u001b[0m\u001b[0;34m\u001b[0m\u001b[0m\n\u001b[0m\u001b[1;32m    165\u001b[0m \u001b[0;34m\u001b[0m\u001b[0m\n\u001b[1;32m    166\u001b[0m                 \u001b[0;31m# if self.wait_on_rate_limit and self._reset_time is not None and \\\u001b[0m\u001b[0;34m\u001b[0m\u001b[0;34m\u001b[0m\u001b[0;34m\u001b[0m\u001b[0m\n",
      "\u001b[0;31mKeyboardInterrupt\u001b[0m: "
     ]
    }
   ],
   "source": [
    "all_friends = []\n",
    "start=time.time()\n",
    "for ii in range(len(ids)):\n",
    "    try:\n",
    "        if deg[ii]<3000: \n",
    "            all_friends.append(api.friends(ids[ii]))\n",
    "        else:\n",
    "            all_friends.append([None])\n",
    "    except tweepy.TweepError as ex:\n",
    "        if ex.reason == \"Not authorized.\":\n",
    "            all_friends.append([\"Not authorized.\"])\n",
    "    if ii % 50 ==0:\n",
    "        print(ii)\n",
    "time.time()-start"
   ]
  },
  {
   "cell_type": "code",
   "execution_count": 220,
   "metadata": {},
   "outputs": [
    {
     "data": {
      "text/plain": [
       "[<matplotlib.lines.Line2D at 0x7f1a9d2cb390>]"
      ]
     },
     "execution_count": 220,
     "metadata": {},
     "output_type": "execute_result"
    },
    {
     "data": {
      "image/png": "[encoded data removed]",
      "text/plain": [
       "<Figure size 432x288 with 1 Axes>"
      ]
     },
     "metadata": {
      "needs_background": "light"
     },
     "output_type": "display_data"
    }
   ],
   "source": [
    "plt.plot(deg)"
   ]
  },
  {
   "cell_type": "code",
   "execution_count": null,
   "metadata": {},
   "outputs": [],
   "source": []
  }
 ],
 "metadata": {
  "kernelspec": {
   "display_name": "Python 3",
   "language": "python",
   "name": "python3"
  },
  "language_info": {
   "codemirror_mode": {
    "name": "ipython",
    "version": 3
   },
   "file_extension": ".py",
   "mimetype": "text/x-python",
   "name": "python",
   "nbconvert_exporter": "python",
   "pygments_lexer": "ipython3",
   "version": "3.6.7"
  }
 },
 "nbformat": 4,
 "nbformat_minor": 2
}
